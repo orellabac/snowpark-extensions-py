{
 "cells": [
  {
   "cell_type": "code",
   "execution_count": null,
   "metadata": {},
   "outputs": [],
   "source": [
    "from snowflake.snowpark import Session\n",
    "if not 'session' in globals():\n",
    "    conf = {\n",
    "    \"account\"   : os.getenv(\"SNOWSQL_ACCOUNT\"), \\\n",
    "    \"warehouse\" : os.getenv(\"SNOWSQL_WAREHOUSE\"), \\\n",
    "    \"database\"  : os.getenv(\"SNOWSQL_DATABASE\"), \\\n",
    "    \"role\"      : os.getenv(\"SNOWSQL_ROLE\"), \\\n",
    "    \"user\"      : os.getenv(\"SNOWSQL_USER\"), \\\n",
    "    \"schema\"    : os.getenv(\"SNOWSQL_SCHEMA\"), \\\n",
    "    \"password\"  : os.getenv(\"SNOWSQL_PWD\") }\n",
    "    session = Session.builder.configs(conf).create()"
   ]
  },
  {
   "cell_type": "code",
   "execution_count": null,
   "metadata": {},
   "outputs": [],
   "source": [
    "df = session.createDataFrame([('oneAtwoBthreeC',)], ['s',])\n",
    "df.show()"
   ]
  }
 ],
 "metadata": {
  "kernelspec": {
   "display_name": "Python 3",
   "language": "python",
   "name": "python3"
  },
  "language_info": {
   "codemirror_mode": {
    "name": "ipython",
    "version": 3
   },
   "file_extension": ".py",
   "mimetype": "text/x-python",
   "name": "python",
   "nbconvert_exporter": "python",
   "pygments_lexer": "ipython3",
   "version": "3.8.16 (default, Jan 10 2023, 15:23:34) \n[GCC 9.4.0]"
  },
  "orig_nbformat": 4,
  "vscode": {
   "interpreter": {
    "hash": "9ac03a0a6051494cc606d484d27d20fce22fb7b4d169f583271e11d5ba46a56e"
   }
  }
 },
 "nbformat": 4,
 "nbformat_minor": 2
}
